{
 "cells": [
  {
   "cell_type": "code",
   "execution_count": 2,
   "id": "crude-defeat",
   "metadata": {},
   "outputs": [],
   "source": [
    "from my_module import compute\n",
    "import math"
   ]
  },
  {
   "cell_type": "code",
   "execution_count": 35,
   "id": "hollow-vegetation",
   "metadata": {},
   "outputs": [],
   "source": [
    "import my_module"
   ]
  },
  {
   "cell_type": "code",
   "execution_count": 36,
   "id": "received-bloom",
   "metadata": {},
   "outputs": [
    {
     "data": {
      "text/plain": [
       "39921960"
      ]
     },
     "execution_count": 36,
     "metadata": {},
     "output_type": "execute_result"
    }
   ],
   "source": [
    "compute([5,7,11])"
   ]
  },
  {
   "cell_type": "code",
   "execution_count": 37,
   "id": "patent-personality",
   "metadata": {},
   "outputs": [
    {
     "name": "stdout",
     "output_type": "stream",
     "text": [
      "Help on module my_module:\n",
      "\n",
      "NAME\n",
      "    my_module\n",
      "\n",
      "FUNCTIONS\n",
      "    compute(numbers)\n",
      "\n",
      "FILE\n",
      "    c:\\datascience\\python\\my_module.py\n",
      "\n",
      "\n"
     ]
    }
   ],
   "source": [
    "help(my_module)"
   ]
  },
  {
   "cell_type": "code",
   "execution_count": 38,
   "id": "amended-terminology",
   "metadata": {},
   "outputs": [],
   "source": [
    "my_module.__doc__"
   ]
  },
  {
   "cell_type": "code",
   "execution_count": 3,
   "id": "double-february",
   "metadata": {},
   "outputs": [
    {
     "data": {
      "text/plain": [
       "20.085536923187668"
      ]
     },
     "execution_count": 3,
     "metadata": {},
     "output_type": "execute_result"
    }
   ],
   "source": [
    "math.exp(3)"
   ]
  },
  {
   "cell_type": "code",
   "execution_count": null,
   "id": "comparable-cartoon",
   "metadata": {},
   "outputs": [],
   "source": []
  }
 ],
 "metadata": {
  "kernelspec": {
   "display_name": "Python 3",
   "language": "python",
   "name": "python3"
  },
  "language_info": {
   "codemirror_mode": {
    "name": "ipython",
    "version": 3
   },
   "file_extension": ".py",
   "mimetype": "text/x-python",
   "name": "python",
   "nbconvert_exporter": "python",
   "pygments_lexer": "ipython3",
   "version": "3.9.0"
  }
 },
 "nbformat": 4,
 "nbformat_minor": 5
}
