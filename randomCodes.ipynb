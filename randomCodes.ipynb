{
 "cells": [
  {
   "cell_type": "markdown",
   "source": [
    "Lets write some random codes\r\n"
   ],
   "metadata": {}
  },
  {
   "cell_type": "markdown",
   "source": [
    "Binary search Exercise"
   ],
   "metadata": {}
  },
  {
   "cell_type": "code",
   "execution_count": 1,
   "source": [
    "#list of numbers\r\n",
    "l = [2, 3, 5, 8, 11, 12, 18]"
   ],
   "outputs": [],
   "metadata": {}
  },
  {
   "cell_type": "code",
   "execution_count": 2,
   "source": [
    "#specify the value to search for\r\n",
    "search_for = 11"
   ],
   "outputs": [],
   "metadata": {}
  },
  {
   "cell_type": "code",
   "execution_count": 3,
   "source": [
    "'''\r\n",
    "Create two variables that will represent the start and end locations of the sublist you are interested in.\r\n",
    "Initially, it will represent the start and end indices for the entire list:\r\n",
    "'''\r\n",
    "slice_start = 0\r\n",
    "slice_end = len(l) - 1\r\n"
   ],
   "outputs": [],
   "metadata": {}
  },
  {
   "cell_type": "code",
   "execution_count": 4,
   "source": [
    "found = False"
   ],
   "outputs": [],
   "metadata": {}
  },
  {
   "cell_type": "code",
   "execution_count": 5,
   "source": [
    "'''' Find the midpoint of the list, and check whether the value is greater or less than the search term. \r\n",
    "Depending on the outcome of the comparison, either finish the search or update the locations for the start/end of the sublist:'''\r\n"
   ],
   "outputs": [
    {
     "output_type": "execute_result",
     "data": {
      "text/plain": [
       "\"' Find the midpoint of the list, and check whether the value is greater or less than the search term. \\nDepending on the outcome of the comparison, either finish the search or update the locations for the start/end of the sublist:\""
      ]
     },
     "metadata": {},
     "execution_count": 5
    }
   ],
   "metadata": {}
  },
  {
   "cell_type": "code",
   "execution_count": null,
   "source": [],
   "outputs": [],
   "metadata": {}
  }
 ],
 "metadata": {
  "orig_nbformat": 4,
  "language_info": {
   "name": "python",
   "version": "3.8.5",
   "mimetype": "text/x-python",
   "codemirror_mode": {
    "name": "ipython",
    "version": 3
   },
   "pygments_lexer": "ipython3",
   "nbconvert_exporter": "python",
   "file_extension": ".py"
  },
  "kernelspec": {
   "name": "python3",
   "display_name": "Python 3.8.5 64-bit ('base': conda)"
  },
  "interpreter": {
   "hash": "17ef20fca54bf0d955de093854a01b394bded09f0eea9d8b721c0dfc5dbaf658"
  }
 },
 "nbformat": 4,
 "nbformat_minor": 2
}