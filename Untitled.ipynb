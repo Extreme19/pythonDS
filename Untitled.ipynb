{
 "cells": [
  {
   "cell_type": "markdown",
   "id": "inappropriate-fleece",
   "metadata": {},
   "source": [
    "# Python Structures"
   ]
  },
  {
   "cell_type": "markdown",
   "id": "focused-toilet",
   "metadata": {},
   "source": [
    "#Matrices and 2D Lists"
   ]
  },
  {
   "cell_type": "code",
   "execution_count": 3,
   "id": "gross-pollution",
   "metadata": {},
   "outputs": [],
   "source": [
    "m = [[1,2,3],[4,5,6]]"
   ]
  },
  {
   "cell_type": "code",
   "execution_count": 4,
   "id": "finite-asbestos",
   "metadata": {},
   "outputs": [
    {
     "name": "stdout",
     "output_type": "stream",
     "text": [
      "6\n"
     ]
    }
   ],
   "source": [
    "print(m[1][2])"
   ]
  },
  {
   "cell_type": "markdown",
   "id": "subtle-intro",
   "metadata": {},
   "source": [
    "Now, access each of the elements in the nested list matrix by retaining their reference index with two variables, i and j:"
   ]
  },
  {
   "cell_type": "code",
   "execution_count": 5,
   "id": "valuable-limit",
   "metadata": {},
   "outputs": [
    {
     "name": "stdout",
     "output_type": "stream",
     "text": [
      "1\n",
      "2\n",
      "3\n",
      "4\n",
      "5\n",
      "6\n"
     ]
    }
   ],
   "source": [
    "for i in range(len(m)):\n",
    "    for j in range(len(m[i])):\n",
    "        print(m[i][j])"
   ]
  },
  {
   "cell_type": "markdown",
   "id": "precious-canvas",
   "metadata": {},
   "source": [
    "Use two for...in loops to print all the elements within the matrix"
   ]
  },
  {
   "cell_type": "code",
   "execution_count": 7,
   "id": "authorized-debate",
   "metadata": {},
   "outputs": [
    {
     "name": "stdout",
     "output_type": "stream",
     "text": [
      "1\n",
      "2\n",
      "3\n",
      "4\n",
      "5\n",
      "6\n"
     ]
    }
   ],
   "source": [
    "for row in m:\n",
    "    for column in row:\n",
    "        print(column)"
   ]
  },
  {
   "cell_type": "markdown",
   "id": "global-launch",
   "metadata": {},
   "source": [
    "store table data using a nested list."
   ]
  },
  {
   "cell_type": "code",
   "execution_count": 8,
   "id": "illegal-vancouver",
   "metadata": {},
   "outputs": [],
   "source": [
    "data = [[\"Name\",\"Age\",\"Department\"],[\"John Mckee\",38,\"Sales\"],[\"Lisa Crawford\",29,\"Marketing\"],[\"Sujan Patel\",33,\"HR\"]]"
   ]
  },
  {
   "cell_type": "code",
   "execution_count": 14,
   "id": "conditional-somewhere",
   "metadata": {},
   "outputs": [
    {
     "name": "stdout",
     "output_type": "stream",
     "text": [
      "['Name', 'Age', 'Department']\n",
      "['John Mckee', 38, 'Sales']\n",
      "['Lisa Crawford', 29, 'Marketing']\n",
      "['Name', 'Age', 'Department']\n",
      "['John Mckee', 38, 'Sales']\n",
      "['Lisa Crawford', 29, 'Marketing']\n",
      "['Name', 'Age', 'Department']\n",
      "['John Mckee', 38, 'Sales']\n",
      "['Lisa Crawford', 29, 'Marketing']\n",
      "['Name', 'Age', 'Department']\n",
      "['John Mckee', 38, 'Sales']\n",
      "['Lisa Crawford', 29, 'Marketing']\n"
     ]
    }
   ],
   "source": [
    "for i in range(len(data)):\n",
    "    for j in range(len(data[i])):\n",
    "        print(data[j])"
   ]
  },
  {
   "cell_type": "code",
   "execution_count": 15,
   "id": "narrative-mongolia",
   "metadata": {},
   "outputs": [],
   "source": [
    "employees = [[\"John Mckee\",38,\"Sales\"],[\"Lisa Crawford\",29,\"Marketing\"],[\"Sujan Patel\",33,\"HR\"]]"
   ]
  },
  {
   "cell_type": "code",
   "execution_count": 16,
   "id": "desirable-proceeding",
   "metadata": {},
   "outputs": [
    {
     "name": "stdout",
     "output_type": "stream",
     "text": [
      "[['John Mckee', 38, 'Sales'], ['Lisa Crawford', 29, 'Marketing'], ['Sujan Patel', 33, 'HR']]\n"
     ]
    }
   ],
   "source": [
    "print(employees)"
   ]
  },
  {
   "cell_type": "code",
   "execution_count": 35,
   "id": "experimental-sponsorship",
   "metadata": {},
   "outputs": [
    {
     "name": "stdout",
     "output_type": "stream",
     "text": [
      "Name: Lisa Crawford\n",
      "Age: 29\n",
      "Department: Marketing\n"
     ]
    }
   ],
   "source": [
    "for i in range(len(employees)):\n",
    "    if i==1:\n",
    "            print(\"Name: {}\".format(employees[1][0]))\n",
    "            print(\"Age: {}\".format(employees[1][1]))\n",
    "            print(\"Department: {}\".format(employees[1][2]))\n",
    "   "
   ]
  },
  {
   "cell_type": "markdown",
   "id": "faced-ordinance",
   "metadata": {},
   "source": [
    "Matrix Operations"
   ]
  },
  {
   "cell_type": "code",
   "execution_count": 50,
   "id": "periodic-adelaide",
   "metadata": {},
   "outputs": [],
   "source": [
    "X = [[1,2,3],[4,5,6],[7,8,9]]\n",
    "Y = [[10,11,12],[13,14,15],[16,17,18]]"
   ]
  },
  {
   "cell_type": "code",
   "execution_count": 37,
   "id": "substantial-difference",
   "metadata": {},
   "outputs": [],
   "source": [
    "#result = X + Y"
   ]
  },
  {
   "cell_type": "code",
   "execution_count": 58,
   "id": "arabic-watson",
   "metadata": {},
   "outputs": [],
   "source": [
    "result = [[0,0,0],[0,0,0],[0,0,0]]\n",
    "jresult = [[0,0,0],[0,0,0],[0,0,0]]\n",
    "jresults = [[0,0,0],[0,0,0],[0,0,0]]"
   ]
  },
  {
   "cell_type": "markdown",
   "id": "opposed-reduction",
   "metadata": {},
   "source": [
    "Addition operation"
   ]
  },
  {
   "cell_type": "code",
   "execution_count": 59,
   "id": "designing-ivory",
   "metadata": {},
   "outputs": [],
   "source": [
    "for i in range(len(X)):\n",
    "    for j in X[i]:\n",
    "        result[i][0] = X[i][0] + Y[i][0]\n",
    "        result[i][1] = X[i][1] + Y[i][1]\n",
    "        result[i][2] = X[i][2] + Y[i][2]"
   ]
  },
  {
   "cell_type": "code",
   "execution_count": 60,
   "id": "talented-monaco",
   "metadata": {},
   "outputs": [
    {
     "data": {
      "text/plain": [
       "[[11, 13, 15], [17, 19, 21], [23, 25, 27]]"
      ]
     },
     "execution_count": 60,
     "metadata": {},
     "output_type": "execute_result"
    }
   ],
   "source": [
    "result"
   ]
  },
  {
   "cell_type": "code",
   "execution_count": 63,
   "id": "collect-clearing",
   "metadata": {},
   "outputs": [
    {
     "name": "stdout",
     "output_type": "stream",
     "text": [
      "[[-11, -13, -15], [-17, -19, -21], [-23, -25, -27]]\n"
     ]
    }
   ],
   "source": [
    "for k in range(len(X)):\n",
    "    for l in range(len(X[k])):\n",
    "        jresult[k][l] = X[k][l] + Y[k][l]\n",
    "print(jresult)\n",
    "        "
   ]
  },
  {
   "cell_type": "markdown",
   "id": "elder-administrator",
   "metadata": {},
   "source": [
    "Subtraction"
   ]
  },
  {
   "cell_type": "code",
   "execution_count": 64,
   "id": "systematic-qualification",
   "metadata": {},
   "outputs": [
    {
     "name": "stdout",
     "output_type": "stream",
     "text": [
      "[[9, 9, 9], [9, 9, 9], [9, 9, 9]]\n"
     ]
    }
   ],
   "source": [
    "for k in range(len(X)):\n",
    "    for l in range(len(X[k])):\n",
    "        jresults[k][l] = (X[k][l] - Y[k][l])* -1\n",
    "print(jresults)"
   ]
  },
  {
   "cell_type": "markdown",
   "id": "ahead-cinema",
   "metadata": {},
   "source": [
    "Matrix Multiplication"
   ]
  },
  {
   "cell_type": "code",
   "execution_count": 65,
   "id": "going-tactics",
   "metadata": {},
   "outputs": [],
   "source": [
    "X = [[1, 2], [4, 5], [3, 6]]\n",
    "Y = [[1,2,3,4],[5,6,7,8]]"
   ]
  },
  {
   "cell_type": "code",
   "execution_count": 66,
   "id": "olive-angle",
   "metadata": {},
   "outputs": [],
   "source": [
    "#elements of rows of X will multiply the elelments of columns of Y and will be summed element-wise. \n",
    "# The result will have the no of rows of X and no of columns of Y"
   ]
  },
  {
   "cell_type": "code",
   "execution_count": 74,
   "id": "alternate-bradford",
   "metadata": {},
   "outputs": [],
   "source": [
    "resultm = [[0,0,0,0],[0,0,0,0],[0,0,0,0]]"
   ]
  },
  {
   "cell_type": "code",
   "execution_count": 75,
   "id": "insured-sheet",
   "metadata": {},
   "outputs": [],
   "source": [
    "for i in range(len(X)):\n",
    "    for j in range(len(Y[0])):\n",
    "        for k in range(len(Y)):\n",
    "            resultm[i][j] += X[i][k] * Y[k][j]"
   ]
  },
  {
   "cell_type": "code",
   "execution_count": 76,
   "id": "outdoor-hobby",
   "metadata": {},
   "outputs": [
    {
     "data": {
      "text/plain": [
       "[[11, 14, 17, 20], [29, 38, 47, 56], [33, 42, 51, 60]]"
      ]
     },
     "execution_count": 76,
     "metadata": {},
     "output_type": "execute_result"
    }
   ],
   "source": [
    "resultm"
   ]
  },
  {
   "cell_type": "code",
   "execution_count": null,
   "id": "returning-catalyst",
   "metadata": {},
   "outputs": [],
   "source": []
  }
 ],
 "metadata": {
  "kernelspec": {
   "display_name": "Python 3",
   "language": "python",
   "name": "python3"
  },
  "language_info": {
   "codemirror_mode": {
    "name": "ipython",
    "version": 3
   },
   "file_extension": ".py",
   "mimetype": "text/x-python",
   "name": "python",
   "nbconvert_exporter": "python",
   "pygments_lexer": "ipython3",
   "version": "3.9.0"
  }
 },
 "nbformat": 4,
 "nbformat_minor": 5
}
