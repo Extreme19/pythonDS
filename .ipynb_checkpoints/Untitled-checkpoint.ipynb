{
 "cells": [
  {
   "cell_type": "markdown",
   "id": "increasing-wiring",
   "metadata": {},
   "source": [
    "# Python Structures"
   ]
  },
  {
   "cell_type": "markdown",
   "id": "developing-advisory",
   "metadata": {},
   "source": [
    "#Matrices and 2D Lists"
   ]
  },
  {
   "cell_type": "code",
   "execution_count": 3,
   "id": "alive-today",
   "metadata": {},
   "outputs": [],
   "source": [
    "m = [[1,2,3],[4,5,6]]"
   ]
  },
  {
   "cell_type": "code",
   "execution_count": 4,
   "id": "technical-enzyme",
   "metadata": {},
   "outputs": [
    {
     "name": "stdout",
     "output_type": "stream",
     "text": [
      "6\n"
     ]
    }
   ],
   "source": [
    "print(m[1][2])"
   ]
  },
  {
   "cell_type": "markdown",
   "id": "meaningful-alarm",
   "metadata": {},
   "source": [
    "Now, access each of the elements in the nested list matrix by retaining their reference index with two variables, i and j:"
   ]
  },
  {
   "cell_type": "code",
   "execution_count": 5,
   "id": "norwegian-municipality",
   "metadata": {},
   "outputs": [
    {
     "name": "stdout",
     "output_type": "stream",
     "text": [
      "1\n",
      "2\n",
      "3\n",
      "4\n",
      "5\n",
      "6\n"
     ]
    }
   ],
   "source": [
    "for i in range(len(m)):\n",
    "    for j in range(len(m[i])):\n",
    "        print(m[i][j])"
   ]
  },
  {
   "cell_type": "markdown",
   "id": "professional-portfolio",
   "metadata": {},
   "source": [
    "Use two for...in loops to print all the elements within the matrix"
   ]
  },
  {
   "cell_type": "code",
   "execution_count": 7,
   "id": "australian-career",
   "metadata": {},
   "outputs": [
    {
     "name": "stdout",
     "output_type": "stream",
     "text": [
      "1\n",
      "2\n",
      "3\n",
      "4\n",
      "5\n",
      "6\n"
     ]
    }
   ],
   "source": [
    "for row in m:\n",
    "    for column in row:\n",
    "        print(column)"
   ]
  },
  {
   "cell_type": "markdown",
   "id": "binary-iraqi",
   "metadata": {},
   "source": [
    "store table data using a nested list."
   ]
  },
  {
   "cell_type": "code",
   "execution_count": 8,
   "id": "sealed-fifty",
   "metadata": {},
   "outputs": [],
   "source": [
    "data = [[\"Name\",\"Age\",\"Department\"],[\"John Mckee\",38,\"Sales\"],[\"Lisa Crawford\",29,\"Marketing\"],[\"Sujan Patel\",33,\"HR\"]]"
   ]
  },
  {
   "cell_type": "code",
   "execution_count": 14,
   "id": "affecting-muscle",
   "metadata": {},
   "outputs": [
    {
     "name": "stdout",
     "output_type": "stream",
     "text": [
      "['Name', 'Age', 'Department']\n",
      "['John Mckee', 38, 'Sales']\n",
      "['Lisa Crawford', 29, 'Marketing']\n",
      "['Name', 'Age', 'Department']\n",
      "['John Mckee', 38, 'Sales']\n",
      "['Lisa Crawford', 29, 'Marketing']\n",
      "['Name', 'Age', 'Department']\n",
      "['John Mckee', 38, 'Sales']\n",
      "['Lisa Crawford', 29, 'Marketing']\n",
      "['Name', 'Age', 'Department']\n",
      "['John Mckee', 38, 'Sales']\n",
      "['Lisa Crawford', 29, 'Marketing']\n"
     ]
    }
   ],
   "source": [
    "for i in range(len(data)):\n",
    "    for j in range(len(data[i])):\n",
    "        print(data[j])"
   ]
  },
  {
   "cell_type": "code",
   "execution_count": 15,
   "id": "experimental-macro",
   "metadata": {},
   "outputs": [],
   "source": [
    "employees = [[\"John Mckee\",38,\"Sales\"],[\"Lisa Crawford\",29,\"Marketing\"],[\"Sujan Patel\",33,\"HR\"]]"
   ]
  },
  {
   "cell_type": "code",
   "execution_count": 16,
   "id": "racial-border",
   "metadata": {},
   "outputs": [
    {
     "name": "stdout",
     "output_type": "stream",
     "text": [
      "[['John Mckee', 38, 'Sales'], ['Lisa Crawford', 29, 'Marketing'], ['Sujan Patel', 33, 'HR']]\n"
     ]
    }
   ],
   "source": [
    "print(employees)"
   ]
  },
  {
   "cell_type": "code",
   "execution_count": 35,
   "id": "urban-egyptian",
   "metadata": {},
   "outputs": [
    {
     "name": "stdout",
     "output_type": "stream",
     "text": [
      "Name: Lisa Crawford\n",
      "Age: 29\n",
      "Department: Marketing\n"
     ]
    }
   ],
   "source": [
    "for i in range(len(employees)):\n",
    "    if i==1:\n",
    "            print(\"Name: {}\".format(employees[1][0]))\n",
    "            print(\"Age: {}\".format(employees[1][1]))\n",
    "            print(\"Department: {}\".format(employees[1][2]))\n",
    "   "
   ]
  },
  {
   "cell_type": "markdown",
   "id": "enhanced-campaign",
   "metadata": {},
   "source": [
    "Matrix Operations"
   ]
  },
  {
   "cell_type": "code",
   "execution_count": 50,
   "id": "demanding-synthetic",
   "metadata": {},
   "outputs": [],
   "source": [
    "X = [[1,2,3],[4,5,6],[7,8,9]]\n",
    "Y = [[10,11,12],[13,14,15],[16,17,18]]"
   ]
  },
  {
   "cell_type": "code",
   "execution_count": 37,
   "id": "sapphire-shaft",
   "metadata": {},
   "outputs": [],
   "source": [
    "#result = X + Y"
   ]
  },
  {
   "cell_type": "code",
   "execution_count": 51,
   "id": "bizarre-border",
   "metadata": {},
   "outputs": [],
   "source": [
    "result = [[0,0,0],[0,0,0],[0,0,0]]\n",
    "jresult = [[0,0,0],[0,0,0],[0,0,0]]"
   ]
  },
  {
   "cell_type": "code",
   "execution_count": 53,
   "id": "loose-activity",
   "metadata": {},
   "outputs": [],
   "source": [
    "for i in range(len(X)):\n",
    "    for j in X[i]:\n",
    "        result[i][0] = X[i][0] + Y[i][0]\n",
    "        result[i][1] = X[i][1] + Y[i][1]\n",
    "        result[i][2] = X[i][2] + Y[i][2]"
   ]
  },
  {
   "cell_type": "code",
   "execution_count": 54,
   "id": "removable-primary",
   "metadata": {},
   "outputs": [
    {
     "data": {
      "text/plain": [
       "[[11, 13, 15], [17, 19, 21], [23, 25, 27]]"
      ]
     },
     "execution_count": 54,
     "metadata": {},
     "output_type": "execute_result"
    }
   ],
   "source": [
    "result"
   ]
  },
  {
   "cell_type": "code",
   "execution_count": 56,
   "id": "indie-defeat",
   "metadata": {},
   "outputs": [],
   "source": [
    "for k in range(len(X)):\n",
    "    for l in range(len(X[k])):\n",
    "        jresult[k][l] = X[k][l] + Y[k][l]\n",
    "        "
   ]
  },
  {
   "cell_type": "raw",
   "id": "suited-pulse",
   "metadata": {},
   "source": [
    "print(jresult)"
   ]
  },
  {
   "cell_type": "code",
   "execution_count": null,
   "id": "turkish-tribe",
   "metadata": {},
   "outputs": [],
   "source": []
  }
 ],
 "metadata": {
  "kernelspec": {
   "display_name": "Python 3",
   "language": "python",
   "name": "python3"
  },
  "language_info": {
   "codemirror_mode": {
    "name": "ipython",
    "version": 3
   },
   "file_extension": ".py",
   "mimetype": "text/x-python",
   "name": "python",
   "nbconvert_exporter": "python",
   "pygments_lexer": "ipython3",
   "version": "3.9.0"
  }
 },
 "nbformat": 4,
 "nbformat_minor": 5
}
